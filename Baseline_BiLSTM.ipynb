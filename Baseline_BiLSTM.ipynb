{
  "cells": [
    {
      "cell_type": "code",
      "execution_count": 1,
      "id": "d6e12935",
      "metadata": {
        "colab": {
          "base_uri": "https://localhost:8080/"
        },
        "id": "d6e12935",
        "outputId": "337aaa6d-9d7d-4e5a-e7dc-a2b2f2ba94a3"
      },
      "outputs": [
        {
          "output_type": "stream",
          "name": "stdout",
          "text": [
            "Collecting torchtext==0.6\n",
            "  Downloading torchtext-0.6.0-py3-none-any.whl (64 kB)\n",
            "\u001b[?25l     \u001b[90m━━━━━━━━━━━━━━━━━━━━━━━━━━━━━━━━━━━━━━━━\u001b[0m \u001b[32m0.0/64.2 kB\u001b[0m \u001b[31m?\u001b[0m eta \u001b[36m-:--:--\u001b[0m\r\u001b[2K     \u001b[90m━━━━━━━━━━━━━━━━━━━━━━━━━━━━━━━━━━━━━━━━\u001b[0m \u001b[32m64.2/64.2 kB\u001b[0m \u001b[31m1.6 MB/s\u001b[0m eta \u001b[36m0:00:00\u001b[0m\n",
            "\u001b[?25hRequirement already satisfied: tqdm in /usr/local/lib/python3.10/dist-packages (from torchtext==0.6) (4.66.1)\n",
            "Requirement already satisfied: requests in /usr/local/lib/python3.10/dist-packages (from torchtext==0.6) (2.31.0)\n",
            "Requirement already satisfied: torch in /usr/local/lib/python3.10/dist-packages (from torchtext==0.6) (2.0.1+cu118)\n",
            "Requirement already satisfied: numpy in /usr/local/lib/python3.10/dist-packages (from torchtext==0.6) (1.23.5)\n",
            "Requirement already satisfied: six in /usr/local/lib/python3.10/dist-packages (from torchtext==0.6) (1.16.0)\n",
            "Collecting sentencepiece (from torchtext==0.6)\n",
            "  Downloading sentencepiece-0.1.99-cp310-cp310-manylinux_2_17_x86_64.manylinux2014_x86_64.whl (1.3 MB)\n",
            "\u001b[2K     \u001b[90m━━━━━━━━━━━━━━━━━━━━━━━━━━━━━━━━━━━━━━━━\u001b[0m \u001b[32m1.3/1.3 MB\u001b[0m \u001b[31m21.0 MB/s\u001b[0m eta \u001b[36m0:00:00\u001b[0m\n",
            "\u001b[?25hRequirement already satisfied: charset-normalizer<4,>=2 in /usr/local/lib/python3.10/dist-packages (from requests->torchtext==0.6) (3.2.0)\n",
            "Requirement already satisfied: idna<4,>=2.5 in /usr/local/lib/python3.10/dist-packages (from requests->torchtext==0.6) (3.4)\n",
            "Requirement already satisfied: urllib3<3,>=1.21.1 in /usr/local/lib/python3.10/dist-packages (from requests->torchtext==0.6) (2.0.4)\n",
            "Requirement already satisfied: certifi>=2017.4.17 in /usr/local/lib/python3.10/dist-packages (from requests->torchtext==0.6) (2023.7.22)\n",
            "Requirement already satisfied: filelock in /usr/local/lib/python3.10/dist-packages (from torch->torchtext==0.6) (3.12.2)\n",
            "Requirement already satisfied: typing-extensions in /usr/local/lib/python3.10/dist-packages (from torch->torchtext==0.6) (4.7.1)\n",
            "Requirement already satisfied: sympy in /usr/local/lib/python3.10/dist-packages (from torch->torchtext==0.6) (1.12)\n",
            "Requirement already satisfied: networkx in /usr/local/lib/python3.10/dist-packages (from torch->torchtext==0.6) (3.1)\n",
            "Requirement already satisfied: jinja2 in /usr/local/lib/python3.10/dist-packages (from torch->torchtext==0.6) (3.1.2)\n",
            "Requirement already satisfied: triton==2.0.0 in /usr/local/lib/python3.10/dist-packages (from torch->torchtext==0.6) (2.0.0)\n",
            "Requirement already satisfied: cmake in /usr/local/lib/python3.10/dist-packages (from triton==2.0.0->torch->torchtext==0.6) (3.27.2)\n",
            "Requirement already satisfied: lit in /usr/local/lib/python3.10/dist-packages (from triton==2.0.0->torch->torchtext==0.6) (16.0.6)\n",
            "Requirement already satisfied: MarkupSafe>=2.0 in /usr/local/lib/python3.10/dist-packages (from jinja2->torch->torchtext==0.6) (2.1.3)\n",
            "Requirement already satisfied: mpmath>=0.19 in /usr/local/lib/python3.10/dist-packages (from sympy->torch->torchtext==0.6) (1.3.0)\n",
            "Installing collected packages: sentencepiece, torchtext\n",
            "  Attempting uninstall: torchtext\n",
            "    Found existing installation: torchtext 0.15.2\n",
            "    Uninstalling torchtext-0.15.2:\n",
            "      Successfully uninstalled torchtext-0.15.2\n",
            "Successfully installed sentencepiece-0.1.99 torchtext-0.6.0\n"
          ]
        }
      ],
      "source": [
        "!pip install torchtext==0.6"
      ]
    },
    {
      "cell_type": "code",
      "source": [
        "from torchtext.data import Field, TabularDataset, BucketIterator,LabelField\n",
        "from tqdm.notebook import tqdm\n",
        "from torchtext.vocab import GloVe\n",
        "\n",
        "# Essential libraries\n",
        "import matplotlib.pyplot as plt\n",
        "import pandas as pd\n",
        "import torch\n",
        "from sklearn.model_selection import train_test_split\n",
        "print(torch.__version__)"
      ],
      "metadata": {
        "colab": {
          "base_uri": "https://localhost:8080/"
        },
        "id": "CT9emd8inicV",
        "outputId": "40c5d0c2-79fa-4f17-eeb0-bb8957641d90"
      },
      "id": "CT9emd8inicV",
      "execution_count": 2,
      "outputs": [
        {
          "output_type": "stream",
          "name": "stdout",
          "text": [
            "2.0.1+cu118\n"
          ]
        }
      ]
    },
    {
      "cell_type": "code",
      "source": [
        "device = torch.device('cuda' if torch.cuda.is_available() else 'cpu')"
      ],
      "metadata": {
        "id": "xzzOPLhxjsh3"
      },
      "id": "xzzOPLhxjsh3",
      "execution_count": 3,
      "outputs": []
    },
    {
      "cell_type": "code",
      "source": [
        "# Load the original dataset\n",
        "df = pd.read_csv('missom_annotated.csv')\n",
        "# df = df.rename(columns={'label_minority_stress': 'label'})\n",
        "# df = df[['text', 'label']]\n",
        "df = df.drop(columns=['post_id','how_annotated'])\n",
        "\n",
        "empty_cells =  df.isnull().sum()\n",
        "print(empty_cells)\n",
        "df.dropna(inplace = True)"
      ],
      "metadata": {
        "colab": {
          "base_uri": "https://localhost:8080/"
        },
        "id": "TGEorkhF5tWF",
        "outputId": "4e45494e-e46d-4f2f-ad54-36630b81d808"
      },
      "id": "TGEorkhF5tWF",
      "execution_count": 4,
      "outputs": [
        {
          "output_type": "stream",
          "name": "stdout",
          "text": [
            "text                      0\n",
            "label_minority_coping     0\n",
            "label_prej_event          0\n",
            "label_exp_reject          0\n",
            "label_identity_conceal    0\n",
            "label_internal_stigma     0\n",
            "label_dysphoria           0\n",
            "label_minority_stress     0\n",
            "dtype: int64\n"
          ]
        }
      ]
    },
    {
      "cell_type": "code",
      "execution_count": 5,
      "id": "e04da5a6",
      "metadata": {
        "id": "e04da5a6"
      },
      "outputs": [],
      "source": [
        "from sklearn.model_selection import train_test_split\n",
        "import random\n",
        "import numpy as np\n",
        "SEED = 1234\n",
        "\n",
        "random.seed(SEED)\n",
        "np.random.seed(SEED)\n",
        "torch.manual_seed(SEED)\n",
        "torch.backends.cudnn.deterministic = True\n",
        "\n",
        "train_ratio = 0.70\n",
        "valid_ratio = 0.15\n",
        "test_ratio = 0.15\n",
        "\n",
        "train_df, remaining_df = train_test_split(df, test_size=1 - train_ratio, random_state=random.seed(SEED))\n",
        "valid_df, test_df = train_test_split(remaining_df, test_size=test_ratio/(valid_ratio + test_ratio), random_state=random.seed(SEED))\n",
        "\n",
        "# Save the dataframes to CSV files\n",
        "train_df.to_csv('train.csv', index=False)\n",
        "test_df.to_csv('test.csv', index=False)\n",
        "valid_df.to_csv('valid.csv', index=False)"
      ]
    },
    {
      "cell_type": "code",
      "execution_count": 6,
      "id": "641b5e90",
      "metadata": {
        "id": "641b5e90"
      },
      "outputs": [],
      "source": [
        "\n",
        "TEXT = Field(tokenize = 'spacy',\n",
        "                  tokenizer_language = 'en_core_web_sm',\n",
        "                  include_lengths = True)\n",
        "\n",
        "LABEL = LabelField(dtype = torch.float)"
      ]
    },
    {
      "cell_type": "code",
      "source": [
        "# Labels in the dataset\n",
        "label_fields = [\n",
        "    'label_minority_coping',\n",
        "    'label_prej_event',\n",
        "    'label_exp_reject',\n",
        "    'label_identity_conceal',\n",
        "    'label_internal_stigma',\n",
        "    'label_dysphoria',\n",
        "    'label_minority_stress'\n",
        "]\n",
        "\n",
        "# Create label fields for each label in multi-label classification\n",
        "label_fields_objs = [LabelField(dtype=torch.float) for _ in label_fields]"
      ],
      "metadata": {
        "id": "iTMkNNkqMrk2"
      },
      "id": "iTMkNNkqMrk2",
      "execution_count": 7,
      "outputs": []
    },
    {
      "cell_type": "code",
      "execution_count": 8,
      "id": "e275989f",
      "metadata": {
        "colab": {
          "base_uri": "https://localhost:8080/"
        },
        "id": "e275989f",
        "outputId": "05f8bd2b-1f18-47f4-a806-e558f3567459"
      },
      "outputs": [
        {
          "output_type": "stream",
          "name": "stdout",
          "text": [
            "Number of training examples: 4052\n",
            "Number of Validation examples: 868\n",
            "Number of testing examples: 869\n",
            "<torchtext.data.example.Example object at 0x7c48f0e2f070>\n"
          ]
        }
      ],
      "source": [
        "# Load the data\n",
        "train_data,valid_data, test_data = TabularDataset.splits(\n",
        "    path= '/content/',\n",
        "    train='train.csv',\n",
        "    validation='valid.csv',\n",
        "    test='test.csv',\n",
        "    format='csv',\n",
        "    fields=[('text', TEXT)] + [(label, label_field) for label, label_field in zip(label_fields, label_fields_objs)],\n",
        "    skip_header=True\n",
        ")\n",
        "print('Number of training examples: {}'.format(len(train_data)))\n",
        "print('Number of Validation examples: {}'.format(len(valid_data)))\n",
        "print('Number of testing examples: {}'.format(len(test_data)))\n",
        "print(train_data[0])"
      ]
    },
    {
      "cell_type": "code",
      "execution_count": 9,
      "id": "5e40a49a",
      "metadata": {
        "id": "5e40a49a",
        "colab": {
          "base_uri": "https://localhost:8080/"
        },
        "outputId": "fbb9512c-e10e-4cfb-b025-9f2252becbcb"
      },
      "outputs": [
        {
          "output_type": "stream",
          "name": "stderr",
          "text": [
            ".vector_cache/glove.6B.zip: 862MB [02:39, 5.40MB/s]                           \n",
            "100%|█████████▉| 399999/400000 [00:21<00:00, 18256.44it/s]\n"
          ]
        }
      ],
      "source": [
        "# TEXT.build_vocab(train_data, min_freq = 3)\n",
        "\n",
        "MAX_VOCAB_SIZE = 25000\n",
        "\n",
        "TEXT.build_vocab(train_data,\n",
        "                 max_size = MAX_VOCAB_SIZE,\n",
        "                 vectors = \"glove.6B.100d\",\n",
        "                 unk_init = torch.Tensor.normal_)\n",
        "\n",
        "# Build vocab for label fields\n",
        "for label_field in label_fields_objs:\n",
        "    label_field.build_vocab(train_data)"
      ]
    },
    {
      "cell_type": "code",
      "execution_count": 10,
      "id": "a6174953",
      "metadata": {
        "id": "a6174953"
      },
      "outputs": [],
      "source": [
        "BATCH_SIZE = 32\n",
        "train_iterator, valid_iterator, test_iterator = BucketIterator.splits(\n",
        "    (train_data, valid_data, test_data),\n",
        "    batch_size = BATCH_SIZE,\n",
        "    device = device,\n",
        "    sort_key=lambda x: len(x.text),\n",
        "    sort_within_batch = True\n",
        "    )"
      ]
    },
    {
      "cell_type": "code",
      "execution_count": 11,
      "id": "5117c5a3",
      "metadata": {
        "id": "5117c5a3"
      },
      "outputs": [],
      "source": [
        "import torch.nn as nn\n",
        "\n",
        "class RNN(nn.Module):\n",
        "    def __init__(self, vocab_size, embedding_dim, hidden_dim, output_dim, n_layers,\n",
        "                 bidirectional, dropout, pad_idx):\n",
        "\n",
        "        super().__init__()\n",
        "\n",
        "        self.embedding = nn.Embedding(vocab_size, embedding_dim, padding_idx = pad_idx)\n",
        "\n",
        "        self.rnn = nn.LSTM(embedding_dim,\n",
        "                           hidden_dim,\n",
        "                           num_layers=n_layers,\n",
        "                           bidirectional=bidirectional,\n",
        "                           dropout=dropout)\n",
        "\n",
        "        self.fc = nn.Linear(hidden_dim * 2, output_dim)\n",
        "\n",
        "        self.dropout = nn.Dropout(dropout)\n",
        "\n",
        "    def forward(self, text, text_lengths):\n",
        "        embedded = self.dropout(self.embedding(text))\n",
        "        # lengths need to be on CPU!\n",
        "        packed_embedded = nn.utils.rnn.pack_padded_sequence(embedded, text_lengths.to('cpu'))\n",
        "        packed_output, (hidden, cell) = self.rnn(packed_embedded)\n",
        "        #unpack sequence\n",
        "        output, output_lengths = nn.utils.rnn.pad_packed_sequence(packed_output)\n",
        "        hidden = self.dropout(torch.cat((hidden[-2,:,:], hidden[-1,:,:]), dim = 1))\n",
        "        return self.fc(hidden)"
      ]
    },
    {
      "cell_type": "code",
      "source": [
        "INPUT_DIM = len(TEXT.vocab)\n",
        "EMBEDDING_DIM = 100\n",
        "HIDDEN_DIM = 256\n",
        "OUTPUT_DIM = len(label_fields)\n",
        "N_LAYERS = 2\n",
        "BIDIRECTIONAL = True\n",
        "DROPOUT = 0.5\n",
        "PAD_IDX = TEXT.vocab.stoi[TEXT.pad_token]\n",
        "\n",
        "model = RNN(INPUT_DIM,\n",
        "            EMBEDDING_DIM,\n",
        "            HIDDEN_DIM,\n",
        "            OUTPUT_DIM,\n",
        "            N_LAYERS,\n",
        "            BIDIRECTIONAL,\n",
        "            DROPOUT,\n",
        "            PAD_IDX)\n"
      ],
      "metadata": {
        "id": "RkVhebaVOpo3"
      },
      "id": "RkVhebaVOpo3",
      "execution_count": 12,
      "outputs": []
    },
    {
      "cell_type": "code",
      "source": [
        "def count_parameters(model):\n",
        "    return sum(p.numel() for p in model.parameters() if p.requires_grad)\n",
        "\n",
        "print(f'The model has {count_parameters(model):,} trainable parameters')\n",
        "\n",
        "pretrained_embeddings = TEXT.vocab.vectors\n",
        "print(pretrained_embeddings.shape)\n",
        "\n",
        "UNK_IDX = TEXT.vocab.stoi[TEXT.unk_token]\n",
        "\n",
        "model.embedding.weight.data[UNK_IDX] = torch.zeros(EMBEDDING_DIM)\n",
        "model.embedding.weight.data[PAD_IDX] = torch.zeros(EMBEDDING_DIM)\n",
        "\n",
        "print(model.embedding.weight.data)"
      ],
      "metadata": {
        "colab": {
          "base_uri": "https://localhost:8080/"
        },
        "id": "PgYVVM5tRwc1",
        "outputId": "57c12cb4-3658-4b70-e9cf-93a644413a8a"
      },
      "id": "PgYVVM5tRwc1",
      "execution_count": 13,
      "outputs": [
        {
          "output_type": "stream",
          "name": "stdout",
          "text": [
            "The model has 4,513,535 trainable parameters\n",
            "torch.Size([21998, 100])\n",
            "tensor([[ 0.0000,  0.0000,  0.0000,  ...,  0.0000,  0.0000,  0.0000],\n",
            "        [ 0.0000,  0.0000,  0.0000,  ...,  0.0000,  0.0000,  0.0000],\n",
            "        [ 0.1475,  0.0092, -0.9416,  ..., -0.8170, -0.5505, -2.2878],\n",
            "        ...,\n",
            "        [ 0.3479,  1.3911,  0.6142,  ..., -0.6241,  0.3029, -0.6467],\n",
            "        [-0.0177,  0.9019, -0.1703,  ..., -0.1292,  0.7746, -1.1858],\n",
            "        [-0.4382, -0.3861, -0.7897,  ..., -1.5075,  1.2604,  0.2182]])\n"
          ]
        }
      ]
    },
    {
      "cell_type": "code",
      "source": [
        "import torch.optim as optim\n",
        "\n",
        "optimizer = optim.Adam(model.parameters(),lr=0.0001)\n",
        "criterion = nn.BCEWithLogitsLoss()\n",
        "model = model.to(device)\n",
        "criterion = criterion.to(device)"
      ],
      "metadata": {
        "id": "jU6x67MJR4_F"
      },
      "id": "jU6x67MJR4_F",
      "execution_count": 14,
      "outputs": []
    },
    {
      "cell_type": "code",
      "execution_count": 15,
      "id": "c9850b27",
      "metadata": {
        "id": "c9850b27"
      },
      "outputs": [],
      "source": [
        "def multi_label_accuracy(preds, y):\n",
        "    rounded_preds = torch.round(torch.sigmoid(preds))\n",
        "    correct = (rounded_preds == y).float()\n",
        "    acc = correct.sum() / (len(label_fields) * len(correct))\n",
        "    return acc"
      ]
    },
    {
      "cell_type": "code",
      "source": [
        "def train(model, iterator, optimizer, criterion):\n",
        "\n",
        "    epoch_loss = 0\n",
        "    epoch_acc = 0\n",
        "\n",
        "    model.train()\n",
        "\n",
        "    for batch in iterator:\n",
        "\n",
        "        optimizer.zero_grad()\n",
        "\n",
        "        text, text_lengths = batch.text\n",
        "\n",
        "        predictions = model(text, text_lengths)\n",
        "        sigmoid_preds = torch.sigmoid(predictions)\n",
        "        for i, label_field in enumerate(label_fields_objs):\n",
        "                label_name = label_fields[i]\n",
        "                output_1 = (sigmoid_preds[:, i] > 0.5).int()\n",
        "\n",
        "                loss = criterion(predictions[:, i], getattr(batch, label_name))\n",
        "                acc = multi_label_accuracy(predictions[:, i], getattr(batch, label_name))\n",
        "\n",
        "                loss.backward(retain_graph=True)\n",
        "\n",
        "                optimizer.step()\n",
        "\n",
        "                epoch_loss += loss.item()\n",
        "                epoch_acc += acc.item()\n",
        "\n",
        "    return epoch_loss / len(iterator), epoch_acc / len(iterator)\n",
        "\n",
        "def evaluate(model, iterator, criterion):\n",
        "\n",
        "    epoch_loss = 0\n",
        "    epoch_acc = 0\n",
        "\n",
        "    model.eval()\n",
        "\n",
        "    with torch.no_grad():\n",
        "\n",
        "        for batch in iterator:\n",
        "\n",
        "            text, text_lengths = batch.text\n",
        "\n",
        "            predictions = model(text, text_lengths)\n",
        "\n",
        "            sigmoid_preds = torch.sigmoid(predictions)\n",
        "\n",
        "            for i, label_field in enumerate(label_fields_objs):\n",
        "                label_name = label_fields[i]\n",
        "                output_1 = (sigmoid_preds[:, i] > 0.5).int()\n",
        "\n",
        "                loss = criterion(predictions[:, i], getattr(batch, label_name))\n",
        "                acc = multi_label_accuracy(predictions[:, i], getattr(batch, label_name))\n",
        "\n",
        "                epoch_loss += loss.item()\n",
        "                epoch_acc += acc.item()\n",
        "\n",
        "    return epoch_loss / len(iterator), epoch_acc / len(iterator)"
      ],
      "metadata": {
        "id": "nm8G1WL6OaBq"
      },
      "id": "nm8G1WL6OaBq",
      "execution_count": 16,
      "outputs": []
    },
    {
      "cell_type": "code",
      "execution_count": 17,
      "id": "7e26899d",
      "metadata": {
        "id": "7e26899d"
      },
      "outputs": [],
      "source": [
        "import time\n",
        "def epoch_time(start_time, end_time):\n",
        "    elapsed_time = end_time - start_time\n",
        "    elapsed_mins = int(elapsed_time / 60)\n",
        "    elapsed_secs = int(elapsed_time - (elapsed_mins * 60))\n",
        "    return elapsed_mins, elapsed_secs"
      ]
    },
    {
      "cell_type": "code",
      "execution_count": 18,
      "id": "2bb0ebb4",
      "metadata": {
        "colab": {
          "base_uri": "https://localhost:8080/"
        },
        "id": "2bb0ebb4",
        "outputId": "948e8846-9553-49a8-e2f2-42b2579fcc2f"
      },
      "outputs": [
        {
          "output_type": "stream",
          "name": "stdout",
          "text": [
            "Epoch: 01 | Epoch Time: 0m 25s\n",
            "\tTrain Loss: 2.496 | Train Acc: 88.66%\n",
            "\t Val. Loss: 2.366 |  Val. Acc: 88.92%\n",
            "Epoch: 02 | Epoch Time: 0m 24s\n",
            "\tTrain Loss: 2.268 | Train Acc: 89.70%\n",
            "\t Val. Loss: 2.350 |  Val. Acc: 88.92%\n",
            "Epoch: 03 | Epoch Time: 0m 25s\n",
            "\tTrain Loss: 2.227 | Train Acc: 89.71%\n",
            "\t Val. Loss: 2.333 |  Val. Acc: 88.92%\n",
            "Epoch: 04 | Epoch Time: 0m 25s\n",
            "\tTrain Loss: 2.179 | Train Acc: 89.70%\n",
            "\t Val. Loss: 2.325 |  Val. Acc: 88.92%\n",
            "Epoch: 05 | Epoch Time: 0m 25s\n",
            "\tTrain Loss: 2.123 | Train Acc: 89.70%\n",
            "\t Val. Loss: 2.345 |  Val. Acc: 88.78%\n",
            "Epoch: 06 | Epoch Time: 0m 25s\n",
            "\tTrain Loss: 2.113 | Train Acc: 89.71%\n",
            "\t Val. Loss: 2.332 |  Val. Acc: 88.68%\n",
            "Epoch: 07 | Epoch Time: 0m 25s\n",
            "\tTrain Loss: 2.051 | Train Acc: 89.76%\n",
            "\t Val. Loss: 2.316 |  Val. Acc: 88.73%\n",
            "Epoch: 08 | Epoch Time: 0m 25s\n",
            "\tTrain Loss: 2.014 | Train Acc: 89.77%\n",
            "\t Val. Loss: 2.249 |  Val. Acc: 88.60%\n",
            "Epoch: 09 | Epoch Time: 0m 26s\n",
            "\tTrain Loss: 1.966 | Train Acc: 89.87%\n",
            "\t Val. Loss: 2.390 |  Val. Acc: 88.15%\n",
            "Epoch: 10 | Epoch Time: 0m 26s\n",
            "\tTrain Loss: 1.923 | Train Acc: 89.94%\n",
            "\t Val. Loss: 2.416 |  Val. Acc: 87.68%\n"
          ]
        }
      ],
      "source": [
        "N_EPOCHS = 10\n",
        "\n",
        "best_valid_loss = float('inf')\n",
        "\n",
        "train_losses = []\n",
        "valid_losses = []\n",
        "train_accuracies = []\n",
        "valid_accuracies = []\n",
        "\n",
        "for epoch in range(N_EPOCHS):\n",
        "\n",
        "    start_time = time.time()\n",
        "\n",
        "    train_loss, train_acc = train(model, train_iterator, optimizer, criterion)\n",
        "    valid_loss, valid_acc = evaluate(model, valid_iterator, criterion)\n",
        "\n",
        "    train_losses.append(train_loss)\n",
        "    valid_losses.append(valid_loss)\n",
        "\n",
        "    train_accuracies.append(train_acc)\n",
        "    valid_accuracies.append(valid_acc)\n",
        "\n",
        "    end_time = time.time()\n",
        "\n",
        "    epoch_mins, epoch_secs = epoch_time(start_time, end_time)\n",
        "\n",
        "    if valid_loss < best_valid_loss:\n",
        "        best_valid_loss = valid_loss\n",
        "        torch.save(model.state_dict(), 'tut6-model.pt')\n",
        "\n",
        "    print(f'Epoch: {epoch+1:02} | Epoch Time: {epoch_mins}m {epoch_secs}s')\n",
        "    print(f'\\tTrain Loss: {train_loss:.3f} | Train Acc: {train_acc*100:.2f}%')\n",
        "    print(f'\\t Val. Loss: {valid_loss:.3f} |  Val. Acc: {valid_acc*100:.2f}%')"
      ]
    },
    {
      "cell_type": "code",
      "execution_count": 19,
      "id": "5f2ed451",
      "metadata": {
        "id": "5f2ed451",
        "colab": {
          "base_uri": "https://localhost:8080/",
          "height": 449
        },
        "outputId": "d939882d-aa1c-4c84-afce-eb8b2b6bc4c9"
      },
      "outputs": [
        {
          "output_type": "display_data",
          "data": {
            "text/plain": [
              "<Figure size 640x480 with 1 Axes>"
            ],
            "image/png": "[encoded data removed]"
          },
          "metadata": {}
        }
      ],
      "source": [
        "epochs = range(1, N_EPOCHS + 1)\n",
        "\n",
        "plt.plot(epochs, train_losses, label='Training Loss')\n",
        "plt.plot(epochs, valid_losses, label='Validation Loss')\n",
        "plt.xlabel('Epoch')\n",
        "plt.ylabel('Loss')\n",
        "plt.legend()\n",
        "plt.show()"
      ]
    },
    {
      "cell_type": "code",
      "source": [
        "epochs = range(1, N_EPOCHS + 1)\n",
        "\n",
        "plt.plot(epochs, train_accuracies, label='Training Accuracy')\n",
        "plt.plot(epochs, valid_accuracies, label='Validation Accuracy')\n",
        "plt.xlabel('Epoch')\n",
        "plt.ylabel('Accuracy')\n",
        "plt.legend()\n",
        "plt.show()"
      ],
      "metadata": {
        "colab": {
          "base_uri": "https://localhost:8080/",
          "height": 449
        },
        "id": "4OC4lnQiVtJ5",
        "outputId": "f7b4bd3e-da63-4da0-a296-00272102bb75"
      },
      "id": "4OC4lnQiVtJ5",
      "execution_count": 20,
      "outputs": [
        {
          "output_type": "display_data",
          "data": {
            "text/plain": [
              "<Figure size 640x480 with 1 Axes>"
            ],
            "image/png": "[encoded data removed]"
          },
          "metadata": {}
        }
      ]
    },
    {
      "cell_type": "code",
      "source": [
        "from sklearn.metrics import accuracy_score, classification_report, confusion_matrix\n",
        "import warnings\n",
        "warnings.filterwarnings('ignore')\n",
        "def calc_report(model, iterator, criterion):\n",
        "    epoch_loss = 0\n",
        "    epoch_acc = 0\n",
        "    y_pred = [[] for _ in range(len(label_fields))]\n",
        "    y_true = [[] for _ in range(len(label_fields))]\n",
        "    model.eval()\n",
        "    with torch.no_grad():\n",
        "        for batch in iterator:\n",
        "            text, text_lengths = batch.text\n",
        "            predictions = model(text, text_lengths)\n",
        "            sigmoid_preds = torch.sigmoid(predictions)\n",
        "            for i, label_field in enumerate(label_fields_objs):\n",
        "                label_name = label_fields[i]\n",
        "                output_1 = (sigmoid_preds[:, i] > 0.5).int()\n",
        "                y_pred[i].extend(output_1.tolist())\n",
        "                y_true[i].extend(getattr(batch, label_name).tolist())\n",
        "                loss = criterion(predictions[:, i], getattr(batch, label_name))\n",
        "                acc = multi_label_accuracy(predictions[:, i], getattr(batch, label_name))\n",
        "                epoch_loss += loss.item()\n",
        "                epoch_acc += acc.item()\n",
        "        all_reports = []\n",
        "        for i, label_field in enumerate(label_fields_objs):\n",
        "            rep = classification_report(y_true[i], y_pred[i], labels=[1, 0], digits=2)\n",
        "            print('_________'*8)\n",
        "            print(label_fields[i])\n",
        "            print(rep)\n",
        "\n"
      ],
      "metadata": {
        "id": "z7aEbjYGVxx0"
      },
      "id": "z7aEbjYGVxx0",
      "execution_count": 21,
      "outputs": []
    },
    {
      "cell_type": "code",
      "source": [
        "calc_report(model, test_iterator, criterion)\n"
      ],
      "metadata": {
        "colab": {
          "base_uri": "https://localhost:8080/"
        },
        "id": "rimWlPCmV0cl",
        "outputId": "29473bab-320b-4e84-f1f1-a14806e74b05"
      },
      "id": "rimWlPCmV0cl",
      "execution_count": 22,
      "outputs": [
        {
          "output_type": "stream",
          "name": "stdout",
          "text": [
            "________________________________________________________________________\n",
            "label_minority_coping\n",
            "              precision    recall  f1-score   support\n",
            "\n",
            "           1       0.30      0.21      0.24       112\n",
            "           0       0.89      0.93      0.91       757\n",
            "\n",
            "    accuracy                           0.84       869\n",
            "   macro avg       0.60      0.57      0.58       869\n",
            "weighted avg       0.81      0.84      0.82       869\n",
            "\n",
            "________________________________________________________________________\n",
            "label_prej_event\n",
            "              precision    recall  f1-score   support\n",
            "\n",
            "           1       0.08      0.01      0.02        74\n",
            "           0       0.91      0.99      0.95       795\n",
            "\n",
            "    accuracy                           0.90       869\n",
            "   macro avg       0.50      0.50      0.49       869\n",
            "weighted avg       0.84      0.90      0.87       869\n",
            "\n",
            "________________________________________________________________________\n",
            "label_exp_reject\n",
            "              precision    recall  f1-score   support\n",
            "\n",
            "           1       0.00      0.00      0.00        48\n",
            "           0       0.94      1.00      0.97       821\n",
            "\n",
            "    accuracy                           0.94       869\n",
            "   macro avg       0.47      0.50      0.49       869\n",
            "weighted avg       0.89      0.94      0.92       869\n",
            "\n",
            "________________________________________________________________________\n",
            "label_identity_conceal\n",
            "              precision    recall  f1-score   support\n",
            "\n",
            "           1       0.00      0.00      0.00        50\n",
            "           0       0.94      1.00      0.97       819\n",
            "\n",
            "    accuracy                           0.94       869\n",
            "   macro avg       0.47      0.50      0.49       869\n",
            "weighted avg       0.89      0.94      0.91       869\n",
            "\n",
            "________________________________________________________________________\n",
            "label_internal_stigma\n",
            "              precision    recall  f1-score   support\n",
            "\n",
            "           1       0.00      0.00      0.00        55\n",
            "           0       0.94      1.00      0.97       814\n",
            "\n",
            "    accuracy                           0.94       869\n",
            "   macro avg       0.47      0.50      0.48       869\n",
            "weighted avg       0.88      0.94      0.91       869\n",
            "\n",
            "________________________________________________________________________\n",
            "label_dysphoria\n",
            "              precision    recall  f1-score   support\n",
            "\n",
            "           1       0.00      0.00      0.00        50\n",
            "           0       0.94      1.00      0.97       819\n",
            "\n",
            "    accuracy                           0.94       869\n",
            "   macro avg       0.47      0.50      0.49       869\n",
            "weighted avg       0.89      0.94      0.91       869\n",
            "\n",
            "________________________________________________________________________\n",
            "label_minority_stress\n",
            "              precision    recall  f1-score   support\n",
            "\n",
            "           1       0.37      0.29      0.33       173\n",
            "           0       0.83      0.87      0.85       696\n",
            "\n",
            "    accuracy                           0.76       869\n",
            "   macro avg       0.60      0.58      0.59       869\n",
            "weighted avg       0.74      0.76      0.75       869\n",
            "\n"
          ]
        }
      ]
    }
  ],
  "metadata": {
    "kernelspec": {
      "display_name": "Python 3 (ipykernel)",
      "language": "python",
      "name": "python3"
    },
    "language_info": {
      "codemirror_mode": {
        "name": "ipython",
        "version": 3
      },
      "file_extension": ".py",
      "mimetype": "text/x-python",
      "name": "python",
      "nbconvert_exporter": "python",
      "pygments_lexer": "ipython3",
      "version": "3.9.12"
    },
    "colab": {
      "provenance": [],
      "gpuType": "T4"
    },
    "accelerator": "GPU",
    "gpuClass": "standard"
  },
  "nbformat": 4,
  "nbformat_minor": 5
}