{
  "cells": [
    {
      "cell_type": "code",
      "execution_count": 1,
      "id": "544d456d",
      "metadata": {
        "colab": {
          "base_uri": "https://localhost:8080/"
        },
        "id": "544d456d",
        "outputId": "de35d2c5-fcd9-4507-ee99-7394043b0810"
      },
      "outputs": [
        {
          "output_type": "stream",
          "name": "stdout",
          "text": [
            "Requirement already satisfied: torchtext==0.6 in /usr/local/lib/python3.10/dist-packages (0.6.0)\n",
            "Requirement already satisfied: tqdm in /usr/local/lib/python3.10/dist-packages (from torchtext==0.6) (4.66.1)\n",
            "Requirement already satisfied: requests in /usr/local/lib/python3.10/dist-packages (from torchtext==0.6) (2.31.0)\n",
            "Requirement already satisfied: torch in /usr/local/lib/python3.10/dist-packages (from torchtext==0.6) (2.0.1+cu118)\n",
            "Requirement already satisfied: numpy in /usr/local/lib/python3.10/dist-packages (from torchtext==0.6) (1.23.5)\n",
            "Requirement already satisfied: six in /usr/local/lib/python3.10/dist-packages (from torchtext==0.6) (1.16.0)\n",
            "Requirement already satisfied: sentencepiece in /usr/local/lib/python3.10/dist-packages (from torchtext==0.6) (0.1.99)\n",
            "Requirement already satisfied: charset-normalizer<4,>=2 in /usr/local/lib/python3.10/dist-packages (from requests->torchtext==0.6) (3.2.0)\n",
            "Requirement already satisfied: idna<4,>=2.5 in /usr/local/lib/python3.10/dist-packages (from requests->torchtext==0.6) (3.4)\n",
            "Requirement already satisfied: urllib3<3,>=1.21.1 in /usr/local/lib/python3.10/dist-packages (from requests->torchtext==0.6) (2.0.4)\n",
            "Requirement already satisfied: certifi>=2017.4.17 in /usr/local/lib/python3.10/dist-packages (from requests->torchtext==0.6) (2023.7.22)\n",
            "Requirement already satisfied: filelock in /usr/local/lib/python3.10/dist-packages (from torch->torchtext==0.6) (3.12.2)\n",
            "Requirement already satisfied: typing-extensions in /usr/local/lib/python3.10/dist-packages (from torch->torchtext==0.6) (4.7.1)\n",
            "Requirement already satisfied: sympy in /usr/local/lib/python3.10/dist-packages (from torch->torchtext==0.6) (1.12)\n",
            "Requirement already satisfied: networkx in /usr/local/lib/python3.10/dist-packages (from torch->torchtext==0.6) (3.1)\n",
            "Requirement already satisfied: jinja2 in /usr/local/lib/python3.10/dist-packages (from torch->torchtext==0.6) (3.1.2)\n",
            "Requirement already satisfied: triton==2.0.0 in /usr/local/lib/python3.10/dist-packages (from torch->torchtext==0.6) (2.0.0)\n",
            "Requirement already satisfied: cmake in /usr/local/lib/python3.10/dist-packages (from triton==2.0.0->torch->torchtext==0.6) (3.27.2)\n",
            "Requirement already satisfied: lit in /usr/local/lib/python3.10/dist-packages (from triton==2.0.0->torch->torchtext==0.6) (16.0.6)\n",
            "Requirement already satisfied: MarkupSafe>=2.0 in /usr/local/lib/python3.10/dist-packages (from jinja2->torch->torchtext==0.6) (2.1.3)\n",
            "Requirement already satisfied: mpmath>=0.19 in /usr/local/lib/python3.10/dist-packages (from sympy->torch->torchtext==0.6) (1.3.0)\n"
          ]
        }
      ],
      "source": [
        "!pip install torchtext==0.6"
      ]
    },
    {
      "cell_type": "code",
      "source": [
        "from torchtext.data import Field, TabularDataset, BucketIterator,LabelField\n",
        "from tqdm.notebook import tqdm\n",
        "from torch.utils.data import Dataset, DataLoader\n",
        "from torchtext.vocab import GloVe"
      ],
      "metadata": {
        "id": "seJ4OwQgKC7r"
      },
      "id": "seJ4OwQgKC7r",
      "execution_count": 2,
      "outputs": []
    },
    {
      "cell_type": "code",
      "execution_count": 3,
      "id": "fe97da4e",
      "metadata": {
        "id": "fe97da4e"
      },
      "outputs": [],
      "source": [
        "# Essential libraries\n",
        "import matplotlib.pyplot as plt\n",
        "import pandas as pd\n",
        "import torch\n",
        "from sklearn.model_selection import train_test_split"
      ]
    },
    {
      "cell_type": "code",
      "execution_count": 4,
      "id": "b7ea04e7",
      "metadata": {
        "colab": {
          "base_uri": "https://localhost:8080/"
        },
        "id": "b7ea04e7",
        "outputId": "b806b273-0d3d-4d2b-e942-74ffe757e8b5"
      },
      "outputs": [
        {
          "output_type": "stream",
          "name": "stdout",
          "text": [
            "2.0.1+cu118\n"
          ]
        }
      ],
      "source": [
        "print(torch.__version__)"
      ]
    },
    {
      "cell_type": "code",
      "execution_count": 5,
      "id": "05948597",
      "metadata": {
        "id": "05948597",
        "colab": {
          "base_uri": "https://localhost:8080/"
        },
        "outputId": "3c1c341d-83ef-4af6-d0d3-15b49351068f"
      },
      "outputs": [
        {
          "output_type": "stream",
          "name": "stdout",
          "text": [
            "text                      0\n",
            "label_minority_coping     0\n",
            "label_prej_event          0\n",
            "label_exp_reject          0\n",
            "label_identity_conceal    0\n",
            "label_internal_stigma     0\n",
            "label_dysphoria           0\n",
            "label_minority_stress     0\n",
            "dtype: int64\n"
          ]
        }
      ],
      "source": [
        "import pandas as pd\n",
        "device = torch.device('cuda' if torch.cuda.is_available() else 'cpu')\n",
        "\n",
        "# Load the original dataset\n",
        "df = pd.read_csv('missom_annotated.csv')\n",
        "df = df.drop(columns=['post_id','how_annotated'])\n",
        "\n",
        "empty_cells =  df.isnull().sum()\n",
        "print(empty_cells)\n",
        "df.dropna(inplace = True)\n",
        "\n"
      ]
    },
    {
      "cell_type": "code",
      "source": [
        "from sklearn.model_selection import train_test_split\n",
        "\n",
        "import random\n",
        "import numpy as np\n",
        "SEED = 1234\n",
        "random.seed(SEED)\n",
        "np.random.seed(SEED)\n",
        "torch.manual_seed(SEED)\n",
        "torch.backends.cudnn.deterministic = True\n",
        "\n",
        "train_ratio = 0.70\n",
        "valid_ratio = 0.15\n",
        "test_ratio = 0.15\n",
        "\n",
        "train_df, remaining_df = train_test_split(df, test_size=1 - train_ratio, random_state=random.seed(SEED))\n",
        "valid_df, test_df = train_test_split(remaining_df, test_size=test_ratio/(valid_ratio + test_ratio), random_state=random.seed(SEED))\n",
        "\n",
        "# Save the dataframes to CSV files\n",
        "train_df.to_csv('train.csv', index=False)\n",
        "test_df.to_csv('test.csv', index=False)\n",
        "valid_df.to_csv('valid.csv', index=False)"
      ],
      "metadata": {
        "id": "sLpF7orTap3g"
      },
      "id": "sLpF7orTap3g",
      "execution_count": 6,
      "outputs": []
    },
    {
      "cell_type": "code",
      "source": [
        "# Labels in the dataset\n",
        "label_fields = [\n",
        "    'label_minority_coping',\n",
        "    'label_prej_event',\n",
        "    'label_exp_reject',\n",
        "    'label_identity_conceal',\n",
        "    'label_internal_stigma',\n",
        "    'label_dysphoria',\n",
        "    'label_minority_stress'\n",
        "]\n",
        "\n",
        "# Create label fields for each label in multi-label classification\n",
        "label_fields_objs = [LabelField(dtype=torch.float) for _ in label_fields]"
      ],
      "metadata": {
        "id": "wc7-mGZNa-8E"
      },
      "id": "wc7-mGZNa-8E",
      "execution_count": 7,
      "outputs": []
    },
    {
      "cell_type": "code",
      "execution_count": 8,
      "id": "d862e8d7",
      "metadata": {
        "colab": {
          "base_uri": "https://localhost:8080/"
        },
        "id": "d862e8d7",
        "outputId": "189b687f-9540-4981-9673-572ee543c2b2"
      },
      "outputs": [
        {
          "output_type": "stream",
          "name": "stdout",
          "text": [
            "Number of training examples: 4052\n",
            "Number of Validation examples: 868\n",
            "Number of testing examples: 869\n",
            "<torchtext.data.example.Example object at 0x7b265cca93c0>\n"
          ]
        }
      ],
      "source": [
        "# Define your own preprocessing steps, e.g., tokenization, lowercase, etc.\n",
        "TEXT = Field(tokenize = 'spacy', tokenizer_language = 'en_core_web_sm')\n",
        "LABEL = LabelField(sequential=False, dtype=torch.float)\n",
        "\n",
        "# Load the data\n",
        "train_data,valid_data, test_data = TabularDataset.splits(\n",
        "    path= r'/content/',\n",
        "    train='train.csv',\n",
        "    validation='valid.csv',\n",
        "    test='test.csv',\n",
        "    format='csv',\n",
        "    fields=[('text', TEXT)] + [(label, label_field) for label, label_field in zip(label_fields, label_fields_objs)],\n",
        "    skip_header=True\n",
        ")\n",
        "\n",
        "print('Number of training examples: {}'.format(len(train_data)))\n",
        "print('Number of Validation examples: {}'.format(len(valid_data)))\n",
        "print('Number of testing examples: {}'.format(len(test_data)))\n",
        "print(train_data[0])"
      ]
    },
    {
      "cell_type": "code",
      "execution_count": 9,
      "id": "e49fcdfb",
      "metadata": {
        "colab": {
          "base_uri": "https://localhost:8080/"
        },
        "id": "e49fcdfb",
        "outputId": "54e2e831-ae61-4c7c-a5a1-381e2455d074"
      },
      "outputs": [
        {
          "output_type": "stream",
          "name": "stdout",
          "text": [
            "{'text': ['Ok', 'so', ',', 'I', 'have', 'n’t', 'really', '’', 'liked', '’', 'anyone', '.', 'At', 'most', 'it', 'was', 'just', 'a', 'mutual', 'friendship', 'that', 'we', 'thought', 'might', 'go', 'somewhere', 'if', 'we', 'dated', '.', 'It', 'does', 'n’t', '.', 'The', 'most', 'I', '’ve', 'had', 'was', 'a', 'slight', 'crush', 'on', 'my', 'best', 'friend', 'in', '4th', 'grade', '.', 'But', 'I', 'never', 'told', 'her', '.', 'I', '’ve', 'struggled', 'with', 'my', 'appearance', 'for', 'a', 'while', 'now', ',', 'never', 'showing', 'my', 'face', 'to', 'anyone', 'online', ',', 'or', 'my', 'voice', 'for', 'that', 'matter', '.', 'And', 'hiding', 'myself', 'in', 'bulky', 'hoodies', '.', 'I', '’ve', 'just', 'recently', 'started', 'to', 'think', 'I', 'look', 'pretty', '.', 'I', 'really', 'want', 'a', 'gf', '/', 'bf', ',', 'but', 'no', 'matter', 'the', 'gender', ',', 'no', 'one', 'my', 'age', 'seems', 'attractive', 'to', 'me', '.', 'I', 'think', 'some', 'of', 'them', 'are', '*', 'pretty', '*', 'in', 'the', 'sort', 'of', 'way', 'you', 'would', 'look', 'at', 'a', 'model', 'in', 'an', 'ad', 'and', 'think', '“', 'She', '’s', 'pretty', '.', '”', 'But', 'not', 'actually', 'be', 'interested', '.', 'I', 'know', 'I', '’m', 'not', 'asexual', ',', 'and', 'I', 'do', 'n’t', 'think', 'I', '’m', 'aromantic', '.', 'But', 'I', 'just', 'ca', 'n’t', 'seem', 'to', 'foster', 'a', 'crush', '.', 'I', 'thought', 'that', 'I', 'liked', 'one', 'of', 'my', 'current', 'friends', ',', 'but', 'he', 'recently', 'came', 'out', 'as', 'gay', 'and', 'I', 'realized', 'that', 'it', 'was', 'just', 'friendship', '.', 'Are', 'my', 'standards', 'too', 'high', '?', 'Do', 'I', 'need', 'to', 'lower', 'them', 'or', 'something', '?', 'Or', 'am', 'I', 'just', 'thinking', 'to', 'far', 'into', 'it', ',', 'and', 'my', '‘', 'one', '’', 'has', 'n’t', 'come', 'yet', '.'], 'label_minority_coping': '0', 'label_prej_event': '0', 'label_exp_reject': '0', 'label_identity_conceal': '0', 'label_internal_stigma': '0', 'label_dysphoria': '0', 'label_minority_stress': '0'}\n"
          ]
        }
      ],
      "source": [
        "print(vars(train_data.examples[0]))"
      ]
    },
    {
      "cell_type": "code",
      "execution_count": 10,
      "id": "d0336e54",
      "metadata": {
        "id": "d0336e54"
      },
      "outputs": [],
      "source": [
        "\n",
        "TEXT.build_vocab(train_data, min_freq=1)\n",
        "\n",
        "# Build vocab for label fields\n",
        "for label_field in label_fields_objs:\n",
        "    label_field.build_vocab(train_data)"
      ]
    },
    {
      "cell_type": "code",
      "execution_count": 11,
      "id": "44f2395b",
      "metadata": {
        "id": "44f2395b"
      },
      "outputs": [],
      "source": [
        "batch_size = 32\n",
        "\n",
        "#For GPU\n",
        "device = torch.device('cuda' if torch.cuda.is_available() else 'cpu')\n",
        "\n",
        "train_iterator, valid_iterator, test_iterator = BucketIterator.splits(\n",
        "    (train_data, valid_data, test_data),\n",
        "    batch_size = batch_size,\n",
        "    device = device,sort_key=lambda x: len(x.text),sort_within_batch = False)"
      ]
    },
    {
      "cell_type": "code",
      "execution_count": 12,
      "id": "2db5d7fe",
      "metadata": {
        "id": "2db5d7fe"
      },
      "outputs": [],
      "source": [
        "import torch.nn as nn\n",
        "class recurrent_nn(nn.Module):\n",
        "    def __init__(self, input_dim, embedding_dim, hidden_dim, output_dim):\n",
        "        super().__init__()\n",
        "\n",
        "        self.embedding = nn.Embedding(input_dim, embedding_dim)\n",
        "\n",
        "        self.rnn = nn.RNN(embedding_dim, hidden_dim)\n",
        "\n",
        "        self.fc = nn.Linear(hidden_dim, output_dim)\n",
        "\n",
        "    def forward(self, text): #used when we feed examples.\n",
        "\n",
        "        #text = [sent len, batch size]\n",
        "        embedded = self.embedding(text)\n",
        "\n",
        "\n",
        "        output, hidden = self.rnn(embedded)\n",
        "\n",
        "        assert torch.equal(output[-1,:,:], hidden.squeeze(0))\n",
        "\n",
        "        return self.fc(hidden.squeeze(0))"
      ]
    },
    {
      "cell_type": "code",
      "execution_count": 13,
      "id": "0be73da7",
      "metadata": {
        "id": "0be73da7"
      },
      "outputs": [],
      "source": [
        "input_dim = len(TEXT.vocab)\n",
        "embedding_dim = 100\n",
        "\n",
        "hidden_dim = 256\n",
        "output_dim = OUTPUT_DIM = len(label_fields)\n",
        "\n",
        "model = recurrent_nn(input_dim, embedding_dim, hidden_dim, output_dim)"
      ]
    },
    {
      "cell_type": "code",
      "execution_count": 14,
      "id": "8a59fc21",
      "metadata": {
        "colab": {
          "base_uri": "https://localhost:8080/"
        },
        "id": "8a59fc21",
        "outputId": "d53c4bca-3999-4241-b1f0-63287c38bb96"
      },
      "outputs": [
        {
          "output_type": "stream",
          "name": "stdout",
          "text": [
            "The model has 2,293,247 trainable parameters\n"
          ]
        }
      ],
      "source": [
        "def count_parameters(model):\n",
        "    return sum(p.numel() for p in model.parameters() if p.requires_grad)\n",
        "\n",
        "\n",
        "print(f'The model has {count_parameters(model):,} trainable parameters')"
      ]
    },
    {
      "cell_type": "code",
      "execution_count": 15,
      "id": "53e6d630",
      "metadata": {
        "id": "53e6d630"
      },
      "outputs": [],
      "source": [
        "import torch.optim as optim\n",
        "\n",
        "optimizer = optim.SGD(model.parameters(), lr = 1e-3)\n",
        "loss_func = nn.BCEWithLogitsLoss()\n",
        "model = model.to(device)\n",
        "loss_func = loss_func.to(device)"
      ]
    },
    {
      "cell_type": "code",
      "execution_count": 16,
      "id": "407cbcfa",
      "metadata": {
        "id": "407cbcfa"
      },
      "outputs": [],
      "source": [
        "def multi_label_accuracy(preds, y):\n",
        "    rounded_preds = torch.round(torch.sigmoid(preds))\n",
        "    correct = (rounded_preds == y).float()\n",
        "    acc = correct.sum() / (len(label_fields) * len(correct))\n",
        "    return acc\n",
        "\n",
        "def train(model, iterator, optimizer, loss_func):\n",
        "\n",
        "    epoch_loss = 0\n",
        "    epoch_acc = 0\n",
        "\n",
        "    model.train()\n",
        "\n",
        "    for batch in iterator:\n",
        "        optimizer.zero_grad()\n",
        "\n",
        "        predictions = model(batch.text)\n",
        "        sigmoid_preds = torch.sigmoid(predictions)\n",
        "        for i, label_field in enumerate(label_fields_objs):\n",
        "                label_name = label_fields[i]\n",
        "                output_1 = (sigmoid_preds[:, i] > 0.5).int()\n",
        "\n",
        "                loss = loss_func(predictions[:, i], getattr(batch, label_name))\n",
        "                acc = multi_label_accuracy(predictions[:, i], getattr(batch, label_name))\n",
        "\n",
        "                loss.backward(retain_graph=True)\n",
        "\n",
        "                optimizer.step()\n",
        "\n",
        "                epoch_loss += loss.item()\n",
        "                epoch_acc += acc.item()\n",
        "\n",
        "    return epoch_loss / len(iterator), epoch_acc / len(iterator)\n",
        "\n",
        "def evaluate(model, iterator, criterion):\n",
        "\n",
        "    epoch_loss = 0\n",
        "    epoch_acc = 0\n",
        "\n",
        "    model.eval()\n",
        "\n",
        "    with torch.no_grad():\n",
        "        for batch in iterator:\n",
        "            predictions = model(batch.text)\n",
        "\n",
        "            sigmoid_preds = torch.sigmoid(predictions)\n",
        "\n",
        "            for i, label_field in enumerate(label_fields_objs):\n",
        "                label_name = label_fields[i]\n",
        "                output_1 = (sigmoid_preds[:, i] > 0.5).int()\n",
        "\n",
        "                loss = criterion(predictions[:, i], getattr(batch, label_name))\n",
        "                acc = multi_label_accuracy(predictions[:, i], getattr(batch, label_name))\n",
        "\n",
        "                epoch_loss += loss.item()\n",
        "                epoch_acc += acc.item()\n",
        "\n",
        "    return epoch_loss / len(iterator), epoch_acc / len(iterator)\n"
      ]
    },
    {
      "cell_type": "code",
      "execution_count": 17,
      "id": "b6d10df3",
      "metadata": {
        "id": "b6d10df3"
      },
      "outputs": [],
      "source": [
        "import time\n",
        "\n",
        "def epoch_time(start_time, end_time):\n",
        "    elapsed_time = end_time - start_time\n",
        "    elapsed_mins = int(elapsed_time/60)\n",
        "    elapsed_secs = int(elapsed_time - (elapsed_mins * 60))\n",
        "\n",
        "    return elapsed_mins, elapsed_secs"
      ]
    },
    {
      "cell_type": "code",
      "execution_count": 18,
      "id": "078f086b",
      "metadata": {
        "colab": {
          "base_uri": "https://localhost:8080/"
        },
        "id": "078f086b",
        "outputId": "d13b7f3d-6a56-49f2-a0e7-fdd50bb40d78"
      },
      "outputs": [
        {
          "output_type": "stream",
          "name": "stdout",
          "text": [
            "Epoch: 01 | Epoch Time: 0m 7s\n",
            "\tTrain Loss: 2.472 | Train Acc: 88.34%\n",
            "\t Val. Loss: 2.589 |  Val. Acc: 87.71%\n",
            "Epoch: 02 | Epoch Time: 0m 7s\n",
            "\tTrain Loss: 2.242 | Train Acc: 89.50%\n",
            "\t Val. Loss: 2.564 |  Val. Acc: 88.22%\n",
            "Epoch: 03 | Epoch Time: 0m 7s\n",
            "\tTrain Loss: 2.229 | Train Acc: 89.55%\n",
            "\t Val. Loss: 2.555 |  Val. Acc: 88.30%\n",
            "Epoch: 04 | Epoch Time: 0m 7s\n",
            "\tTrain Loss: 2.230 | Train Acc: 89.64%\n",
            "\t Val. Loss: 2.538 |  Val. Acc: 88.38%\n",
            "Epoch: 05 | Epoch Time: 0m 7s\n",
            "\tTrain Loss: 2.237 | Train Acc: 89.54%\n",
            "\t Val. Loss: 2.528 |  Val. Acc: 88.49%\n",
            "Epoch: 06 | Epoch Time: 0m 7s\n",
            "\tTrain Loss: 2.235 | Train Acc: 89.59%\n",
            "\t Val. Loss: 2.526 |  Val. Acc: 88.49%\n",
            "Epoch: 07 | Epoch Time: 0m 10s\n",
            "\tTrain Loss: 2.233 | Train Acc: 89.60%\n",
            "\t Val. Loss: 2.508 |  Val. Acc: 88.54%\n",
            "Epoch: 08 | Epoch Time: 0m 7s\n",
            "\tTrain Loss: 2.231 | Train Acc: 89.63%\n",
            "\t Val. Loss: 2.502 |  Val. Acc: 88.60%\n",
            "Epoch: 09 | Epoch Time: 0m 7s\n",
            "\tTrain Loss: 2.218 | Train Acc: 89.66%\n",
            "\t Val. Loss: 2.498 |  Val. Acc: 88.62%\n",
            "Epoch: 10 | Epoch Time: 0m 7s\n",
            "\tTrain Loss: 2.215 | Train Acc: 89.68%\n",
            "\t Val. Loss: 2.494 |  Val. Acc: 88.66%\n"
          ]
        }
      ],
      "source": [
        "N_EPOCHS = 10\n",
        "\n",
        "best_valid_loss = float('inf')\n",
        "\n",
        "for epoch in range(N_EPOCHS):\n",
        "\n",
        "    start_time = time.time()\n",
        "\n",
        "    train_loss, train_acc = train(model, train_iterator, optimizer, loss_func)\n",
        "    valid_loss, valid_acc = evaluate(model, valid_iterator, loss_func)\n",
        "\n",
        "    end_time = time.time()\n",
        "\n",
        "    epoch_mins, epoch_secs = epoch_time(start_time, end_time)\n",
        "\n",
        "    if valid_loss < best_valid_loss:\n",
        "        best_valid_loss = valid_loss\n",
        "        torch.save(model.state_dict(), 'rnn-model.pt')\n",
        "\n",
        "    print(f'Epoch: {epoch+1:02} | Epoch Time: {epoch_mins}m {epoch_secs}s')\n",
        "    print(f'\\tTrain Loss: {train_loss:.3f} | Train Acc: {train_acc*100:.2f}%')\n",
        "    print(f'\\t Val. Loss: {valid_loss:.3f} |  Val. Acc: {valid_acc*100:.2f}%')"
      ]
    },
    {
      "cell_type": "code",
      "source": [
        "from sklearn.metrics import accuracy_score, classification_report, confusion_matrix\n",
        "import warnings\n",
        "warnings.filterwarnings('ignore')\n",
        "def calc_report(model, iterator, criterion):\n",
        "    epoch_loss = 0\n",
        "    epoch_acc = 0\n",
        "    y_pred = [[] for _ in range(len(label_fields))]\n",
        "    y_true = [[] for _ in range(len(label_fields))]\n",
        "    model.eval()\n",
        "    with torch.no_grad():\n",
        "        for batch in iterator:\n",
        "            text = batch.text\n",
        "            predictions = model(text)\n",
        "            sigmoid_preds = torch.sigmoid(predictions)\n",
        "            for i, label_field in enumerate(label_fields_objs):\n",
        "                label_name = label_fields[i]\n",
        "                output_1 = (sigmoid_preds[:, i] > 0.5).int()\n",
        "                y_pred[i].extend(output_1.tolist())\n",
        "                y_true[i].extend(getattr(batch, label_name).tolist())\n",
        "                loss = criterion(predictions[:, i], getattr(batch, label_name))\n",
        "                acc = multi_label_accuracy(predictions[:, i], getattr(batch, label_name))\n",
        "                epoch_loss += loss.item()\n",
        "                epoch_acc += acc.item()\n",
        "        all_reports = []\n",
        "        for i, label_field in enumerate(label_fields_objs):\n",
        "            rep = classification_report(y_true[i], y_pred[i], labels=[1, 0], digits=2)\n",
        "            print('_________'*8)\n",
        "            print(label_fields[i])\n",
        "            print(rep)\n",
        "\n"
      ],
      "metadata": {
        "id": "RXRpb7W2yi_k"
      },
      "id": "RXRpb7W2yi_k",
      "execution_count": 19,
      "outputs": []
    },
    {
      "cell_type": "code",
      "source": [
        "calc_report(model, test_iterator, loss_func)"
      ],
      "metadata": {
        "colab": {
          "base_uri": "https://localhost:8080/"
        },
        "id": "8hlLvHgLcTBT",
        "outputId": "2b39a5aa-9423-4c72-ca4d-665060389537"
      },
      "id": "8hlLvHgLcTBT",
      "execution_count": 20,
      "outputs": [
        {
          "output_type": "stream",
          "name": "stdout",
          "text": [
            "________________________________________________________________________\n",
            "label_minority_coping\n",
            "              precision    recall  f1-score   support\n",
            "\n",
            "           1       0.00      0.00      0.00       112\n",
            "           0       0.87      0.99      0.93       757\n",
            "\n",
            "    accuracy                           0.87       869\n",
            "   macro avg       0.44      0.50      0.46       869\n",
            "weighted avg       0.76      0.87      0.81       869\n",
            "\n",
            "________________________________________________________________________\n",
            "label_prej_event\n",
            "              precision    recall  f1-score   support\n",
            "\n",
            "           1       0.00      0.00      0.00        74\n",
            "           0       0.91      1.00      0.95       795\n",
            "\n",
            "    accuracy                           0.91       869\n",
            "   macro avg       0.46      0.50      0.48       869\n",
            "weighted avg       0.84      0.91      0.87       869\n",
            "\n",
            "________________________________________________________________________\n",
            "label_exp_reject\n",
            "              precision    recall  f1-score   support\n",
            "\n",
            "           1       0.00      0.00      0.00        48\n",
            "           0       0.94      1.00      0.97       821\n",
            "\n",
            "    accuracy                           0.94       869\n",
            "   macro avg       0.47      0.50      0.49       869\n",
            "weighted avg       0.89      0.94      0.92       869\n",
            "\n",
            "________________________________________________________________________\n",
            "label_identity_conceal\n",
            "              precision    recall  f1-score   support\n",
            "\n",
            "           1       0.00      0.00      0.00        50\n",
            "           0       0.94      1.00      0.97       819\n",
            "\n",
            "    accuracy                           0.94       869\n",
            "   macro avg       0.47      0.50      0.48       869\n",
            "weighted avg       0.89      0.94      0.91       869\n",
            "\n",
            "________________________________________________________________________\n",
            "label_internal_stigma\n",
            "              precision    recall  f1-score   support\n",
            "\n",
            "           1       0.00      0.00      0.00        55\n",
            "           0       0.94      1.00      0.97       814\n",
            "\n",
            "    accuracy                           0.94       869\n",
            "   macro avg       0.47      0.50      0.48       869\n",
            "weighted avg       0.88      0.94      0.91       869\n",
            "\n",
            "________________________________________________________________________\n",
            "label_dysphoria\n",
            "              precision    recall  f1-score   support\n",
            "\n",
            "           1       0.00      0.00      0.00        50\n",
            "           0       0.94      0.99      0.97       819\n",
            "\n",
            "    accuracy                           0.94       869\n",
            "   macro avg       0.47      0.50      0.48       869\n",
            "weighted avg       0.89      0.94      0.91       869\n",
            "\n",
            "________________________________________________________________________\n",
            "label_minority_stress\n",
            "              precision    recall  f1-score   support\n",
            "\n",
            "           1       0.00      0.00      0.00       173\n",
            "           0       0.80      0.99      0.89       696\n",
            "\n",
            "    accuracy                           0.80       869\n",
            "   macro avg       0.40      0.50      0.44       869\n",
            "weighted avg       0.64      0.80      0.71       869\n",
            "\n"
          ]
        }
      ]
    }
  ],
  "metadata": {
    "kernelspec": {
      "display_name": "Python 3 (ipykernel)",
      "language": "python",
      "name": "python3"
    },
    "language_info": {
      "codemirror_mode": {
        "name": "ipython",
        "version": 3
      },
      "file_extension": ".py",
      "mimetype": "text/x-python",
      "name": "python",
      "nbconvert_exporter": "python",
      "pygments_lexer": "ipython3",
      "version": "3.9.12"
    },
    "colab": {
      "provenance": [],
      "gpuType": "T4"
    },
    "accelerator": "GPU",
    "gpuClass": "standard"
  },
  "nbformat": 4,
  "nbformat_minor": 5
}